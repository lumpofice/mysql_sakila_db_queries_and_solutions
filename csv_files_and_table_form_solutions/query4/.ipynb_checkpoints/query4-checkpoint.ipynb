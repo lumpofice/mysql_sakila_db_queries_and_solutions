{
 "cells": [
  {
   "cell_type": "markdown",
   "id": "c83a6aff",
   "metadata": {},
   "source": [
    "The customer_id column results in out-of-order rows. However, using the following code, a simple search for the customer_id number of your choice will highlight your customer."
   ]
  },
  {
   "cell_type": "code",
   "execution_count": null,
   "id": "54e20331",
   "metadata": {},
   "outputs": [],
   "source": [
    "import pandas as pd\n",
    "\n",
    "query4_babystep1 = pd.read_csv('query4_babystep1.csv')\n",
    "query4_babystep1.to_string()"
   ]
  }
 ],
 "metadata": {
  "kernelspec": {
   "display_name": "Python 3",
   "language": "python",
   "name": "python3"
  },
  "language_info": {
   "codemirror_mode": {
    "name": "ipython",
    "version": 3
   },
   "file_extension": ".py",
   "mimetype": "text/x-python",
   "name": "python",
   "nbconvert_exporter": "python",
   "pygments_lexer": "ipython3",
   "version": "3.7.3"
  }
 },
 "nbformat": 4,
 "nbformat_minor": 5
}
